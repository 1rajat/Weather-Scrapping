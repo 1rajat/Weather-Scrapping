{
 "cells": [
  {
   "cell_type": "code",
   "execution_count": 41,
   "metadata": {},
   "outputs": [
    {
     "name": "stdout",
     "output_type": "stream",
     "text": [
      "           period           info Temperatures\n",
      "0       Overnight   Mostly Clear   Low: 46 °F\n",
      "1         Tuesday          Sunny  High: 71 °F\n",
      "2    TuesdayNight          Clear   Low: 52 °F\n",
      "3       Wednesday          Sunny  High: 77 °F\n",
      "4  WednesdayNight          Clear   Low: 45 °F\n",
      "5        Thursday          Sunny  High: 70 °F\n",
      "6   ThursdayNight   Mostly Clear   Low: 46 °F\n",
      "7          Friday          Sunny  High: 73 °F\n",
      "8     FridayNight  Partly Cloudy   Low: 53 °F\n"
     ]
    }
   ],
   "source": [
    "import requests\n",
    "from bs4 import BeautifulSoup\n",
    "import pandas as pd\n",
    "page = requests.get(\"https://forecast.weather.gov/MapClick.php?textField1=39.92&textField2=-86.28#.X3wEE8Iza00\")\n",
    "soup = BeautifulSoup(page.content, 'html.parser')\n",
    "#print(soup.find_all('a'))\n",
    "week = soup.find(id=\"seven-day-forecast-body\")\n",
    "#print(week)\n",
    "items = week.find_all(class_ = \"tombstone-container\")\n",
    "#print(items[0]\n",
    "period_name = [item.find(class_ = 'period-name').get_text() for item in items]\n",
    "short_desc  = [item.find(class_ = 'short-desc').get_text() for item in items]\n",
    "temp        = [item.find(class_ = 'temp').get_text() for item in items]\n",
    "#print(period_name)\n",
    "#print(short_desc)\n",
    "#print(temp)\n",
    "weather = pd.DataFrame({'period':period_name,'info':short_desc,\"Temperatures\":temp})\n",
    "print(weather)\n",
    "weather.to_csv('Weather.csv')"
   ]
  }
 ],
 "metadata": {
  "kernelspec": {
   "display_name": "Python 3",
   "language": "python",
   "name": "python3"
  },
  "language_info": {
   "codemirror_mode": {
    "name": "ipython",
    "version": 3
   },
   "file_extension": ".py",
   "mimetype": "text/x-python",
   "name": "python",
   "nbconvert_exporter": "python",
   "pygments_lexer": "ipython3",
   "version": "3.8.3"
  }
 },
 "nbformat": 4,
 "nbformat_minor": 4
}
